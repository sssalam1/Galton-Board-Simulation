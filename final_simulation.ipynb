{
 "cells": [
  {
   "cell_type": "code",
   "execution_count": 82,
   "metadata": {},
   "outputs": [
    {
     "data": {
      "image/png": "[encoded data removed]",
      "text/plain": [
       "<Figure size 432x288 with 1 Axes>"
      ]
     },
     "metadata": {
      "needs_background": "light"
     },
     "output_type": "display_data"
    }
   ],
   "source": [
    "import matplotlib.pyplot as plt\n",
    "import random\n",
    "balls = 10000\n",
    "lines = 15\n",
    "\n",
    "dist = [0] * (lines*2)\n",
    "for ball in range(balls):\n",
    "    total = 0\n",
    "    for line in range(lines):\n",
    "        outcome = random.uniform(0,1)\n",
    "        if outcome >= 0.5:\n",
    "            total = total + 1\n",
    "        else:\n",
    "            total = total - 1\n",
    "    dist[total + lines ] = dist[total + lines ] + 1\n",
    "    \n",
    "for i in range(lines):\n",
    "    dist[i] = dist[i*2]\n",
    "    \n",
    "plt.bar([str(i) for i in range(lines)], dist[0:lines])\n",
    "plt.xticks([])\n",
    "\n",
    "title = ('Galton Board simulation for {} balls and {} buckets').format(balls, lines)\n",
    "plt.title(title)\n",
    "plt.show()"
   ]
  },
  {
   "cell_type": "code",
   "execution_count": 83,
   "metadata": {},
   "outputs": [
    {
     "name": "stdout",
     "output_type": "stream",
     "text": [
      "Galton Board simulation for 10000 balls and 15 buckets\n",
      "[2, 3, 34, 149, 445, 927, 1477, 2022, 1942, 1461, 930, 440, 140, 24, 4]\n"
     ]
    }
   ],
   "source": [
    "d = dist[0:lines]\n",
    "print(('Galton Board simulation for {} balls and {} buckets').format(balls, lines))\n",
    "print(d)"
   ]
  },
  {
   "cell_type": "code",
   "execution_count": 45,
   "metadata": {
    "scrolled": true
   },
   "outputs": [
    {
     "name": "stdout",
     "output_type": "stream",
     "text": [
      "[0, 0, 0, 6, 23, 47, 79, 88, 96, 76, 52, 25, 6, 2, 0]\n"
     ]
    }
   ],
   "source": []
  },
  {
   "cell_type": "code",
   "execution_count": 46,
   "metadata": {},
   "outputs": [
    {
     "name": "stdout",
     "output_type": "stream",
     "text": [
      "[0.0, 0.0, 0.0, 0.012, 0.046, 0.094, 0.158, 0.176, 0.192, 0.152, 0.104, 0.05, 0.012, 0.004, 0.0]\n"
     ]
    }
   ],
   "source": [
    "sum(d)\n",
    "new_d = [ i/sum(d) for i in d ]\n",
    "print(new_d)"
   ]
  },
  {
   "cell_type": "code",
   "execution_count": 5,
   "metadata": {},
   "outputs": [],
   "source": [
    "import matplotlib.pyplot as plt\n",
    "import random\n",
    "balls = 1000\n",
    "lines = 15\n",
    "\n",
    "dist = [0] * (lines*2)\n",
    "for ball in range(balls):\n",
    "    total = 0\n",
    "    for line in range(lines):\n",
    "        outcome = random.uniform(0,1)\n",
    "        if outcome >= 0.5:\n",
    "            total = total + 1\n",
    "        else:\n",
    "            total = total - 1\n",
    "    dist[total + lines ] = dist[total + lines ] + 1"
   ]
  },
  {
   "cell_type": "code",
   "execution_count": 9,
   "metadata": {},
   "outputs": [],
   "source": [
    "for i in range(lines):\n",
    "    dist[i] = dist[i*2]"
   ]
  },
  {
   "cell_type": "code",
   "execution_count": 21,
   "metadata": {},
   "outputs": [],
   "source": [
    "# Checking the if the given distribution is Gaussian or not by using Shapiro-Wilk Test\n",
    "import scipy.stats as st "
   ]
  },
  {
   "cell_type": "code",
   "execution_count": 43,
   "metadata": {},
   "outputs": [
    {
     "data": {
      "text/plain": [
       "(0.7956840395927429, 0.0032378765754401684)"
      ]
     },
     "execution_count": 43,
     "metadata": {},
     "output_type": "execute_result"
    }
   ],
   "source": [
    "st.shapiro(new_d)"
   ]
  },
  {
   "cell_type": "code",
   "execution_count": null,
   "metadata": {},
   "outputs": [],
   "source": []
  }
 ],
 "metadata": {
  "kernelspec": {
   "display_name": "Python 3",
   "language": "python",
   "name": "python3"
  },
  "language_info": {
   "codemirror_mode": {
    "name": "ipython",
    "version": 3
   },
   "file_extension": ".py",
   "mimetype": "text/x-python",
   "name": "python",
   "nbconvert_exporter": "python",
   "pygments_lexer": "ipython3",
   "version": "3.7.3"
  }
 },
 "nbformat": 4,
 "nbformat_minor": 2
}
